{
 "cells": [
  {
   "cell_type": "code",
   "execution_count": 1,
   "id": "0fff6edb",
   "metadata": {
    "scrolled": true
   },
   "outputs": [],
   "source": [
    "import sys\n",
    "import os\n",
    "import comtypes.client\n",
    "from tqdm.notebook import tqdm"
   ]
  },
  {
   "cell_type": "code",
   "execution_count": 2,
   "id": "b26da41e",
   "metadata": {},
   "outputs": [],
   "source": [
    "def ppt_to_pdf(input_path, output_path):\n",
    "    \n",
    "    input_path = os.path.abspath(input_path)\n",
    "    output_path = os.path.abspath(output_path)\n",
    "    \n",
    "    input_file_paths = os.listdir(input_path)\n",
    "    \n",
    "    for input_file_name in tqdm(input_file_paths):\n",
    "\n",
    "        if not input_file_name.lower().endswith((\".ppt\", \".pptx\")):\n",
    "            continue\n",
    "\n",
    "        input_file_path = os.path.join(input_path, input_file_name)\n",
    "        print(input_file_name)\n",
    "\n",
    "        powerpoint = comtypes.client.CreateObject(\"Powerpoint.Application\")\n",
    "        powerpoint.Visible = True\n",
    "        slides = powerpoint.Presentations.Open(input_file_path)\n",
    "\n",
    "        file_name = os.path.splitext(input_file_name)[0]\n",
    "        output_file_path = os.path.join(output_path, file_name + \".pdf\")\n",
    "\n",
    "        slides.SaveAs(output_file_path, FileFormat=32)\n",
    "        slides.Close()\n",
    "        \n",
    "    print('\\n👉 Finish Work!!')"
   ]
  },
  {
   "cell_type": "code",
   "execution_count": 3,
   "id": "b5b96d64",
   "metadata": {},
   "outputs": [
    {
     "data": {
      "application/vnd.jupyter.widget-view+json": {
       "model_id": "32c665a6ffbf4795857122062581179d",
       "version_major": 2,
       "version_minor": 0
      },
      "text/plain": [
       "  0%|          | 0/1 [00:00<?, ?it/s]"
      ]
     },
     "metadata": {},
     "output_type": "display_data"
    },
    {
     "name": "stdout",
     "output_type": "stream",
     "text": [
      "target.pptx\n",
      "\n",
      "👉 Finish Work!!\n"
     ]
    }
   ],
   "source": [
    "ppt_to_pdf('./ppt', './pdf')"
   ]
  }
 ],
 "metadata": {
  "kernelspec": {
   "display_name": "Python 3 (ipykernel)",
   "language": "python",
   "name": "python3"
  },
  "language_info": {
   "codemirror_mode": {
    "name": "ipython",
    "version": 3
   },
   "file_extension": ".py",
   "mimetype": "text/x-python",
   "name": "python",
   "nbconvert_exporter": "python",
   "pygments_lexer": "ipython3",
   "version": "3.10.9"
  }
 },
 "nbformat": 4,
 "nbformat_minor": 5
}
